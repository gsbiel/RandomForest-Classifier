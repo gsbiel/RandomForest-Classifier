{
 "cells": [
  {
   "cell_type": "markdown",
   "metadata": {},
   "source": [
    "# Construção de um Classificador Binário baseado no algoritmo KNN"
   ]
  },
  {
   "cell_type": "markdown",
   "metadata": {},
   "source": [
    "## Dependências necessárias"
   ]
  },
  {
   "cell_type": "code",
   "execution_count": 1,
   "metadata": {},
   "outputs": [
    {
     "name": "stderr",
     "output_type": "stream",
     "text": [
      "[nltk_data] Downloading package punkt to /root/nltk_data...\n",
      "[nltk_data]   Unzipping tokenizers/punkt.zip.\n",
      "[nltk_data] Downloading package stopwords to /root/nltk_data...\n",
      "[nltk_data]   Unzipping corpora/stopwords.zip.\n"
     ]
    }
   ],
   "source": [
    "# In[50]:\n",
    "from __future__ import absolute_import, division, print_function\n",
    "import pandas as pd\n",
    "import nltk  \n",
    "import numpy as np  \n",
    "nltk.download('punkt')\n",
    "nltk.download('stopwords')\n",
    "from nltk.stem.snowball import SnowballStemmer\n",
    "import heapq\n",
    "import re  \n",
    "import io\n",
    "import math\n",
    "import csv\n",
    "# Helper libraries\n",
    "import matplotlib.pyplot as plt\n",
    "import seaborn as sns\n",
    "import functools\n",
    "import operator\n",
    "import PIL\n",
    "import tqdm\n",
    "import tqdm.auto\n",
    "from sklearn.metrics import classification_report, confusion_matrix, accuracy_score\n",
    "from sklearn.model_selection import train_test_split\n",
    "from sklearn.neighbors import KNeighborsClassifier  \n",
    "from sklearn.preprocessing import StandardScaler  \n",
    "from IPython.display import display\n",
    "import os"
   ]
  },
  {
   "cell_type": "markdown",
   "metadata": {},
   "source": [
    "## Carregando variáveis de ambiente"
   ]
  },
  {
   "cell_type": "code",
   "execution_count": 2,
   "metadata": {},
   "outputs": [
    {
     "name": "stdout",
     "output_type": "stream",
     "text": [
      "ENV_DATASET_FILENAME: Nome do arquivo que contém o dataset: locations_to_be_labeled.csv\n",
      "ORDER_DEGREE: As 2845 palavras mais frequentes da bag of words serão consideradas na construção do modelo.\n",
      "ENV_TRAIN_TEST_PROPORTION: proporção da divisão do dataset em treino e teste: 80.0%\n"
     ]
    }
   ],
   "source": [
    "os.environ['TF_CPP_MIN_LOG_LEVEL'] = '2'\n",
    "\n",
    "# ENV_DATASET_FILENAME = os.environ['INPUT_DATASET_FILENAME']\n",
    "# ENV_ORDER_DEGREE = os.environ['ORDER_DEGREE']\n",
    "# ENV_TRAIN_TEST_PROPORTION = os.environ['TRAIN_TEST_PROPORTION']\n",
    "\n",
    "ENV_DATASET_FILENAME = \"locations_to_be_labeled.csv\"\n",
    "ENV_ORDER_DEGREE = 2845\n",
    "ENV_TRAIN_TEST_PROPORTION = 0.8\n",
    "\n",
    "nameOfTheFile = ENV_DATASET_FILENAME\n",
    "print(\"ENV_DATASET_FILENAME: Nome do arquivo que contém o dataset: \" + nameOfTheFile)\n",
    "print(\"ENV_ORDER_DEGREE: As \" + str(ENV_ORDER_DEGREE) + \" palavras mais frequentes da bag of words serão consideradas na construção do modelo.\")\n",
    "print(\"ENV_TRAIN_TEST_PROPORTION: proporção da divisão do dataset em treino e teste: \" + str(ENV_TRAIN_TEST_PROPORTION*100) + \"%\")"
   ]
  },
  {
   "cell_type": "markdown",
   "metadata": {},
   "source": [
    "## Preparação do conjunto de dados"
   ]
  },
  {
   "cell_type": "markdown",
   "metadata": {},
   "source": [
    "### Carregando o Dataset"
   ]
  },
  {
   "cell_type": "code",
   "execution_count": 3,
   "metadata": {},
   "outputs": [
    {
     "name": "stdout",
     "output_type": "stream",
     "text": [
      "Quantidade de perguntas: 1500\n",
      "\n",
      "Tweet:\n",
      "\n",
      "- com o cara faixapreta que venceu a dengue ducatambasco haha foi muito bom te rever brother\n",
      "- dengue me pegou dnv\n",
      "- prefeitura de santa cruz divulga plano de ação de enfrentamento a dengue chicungunya e zika\n",
      "- seguimos na luta contra a dengue chikungunya e o zika vírus com essas três doenças não dá para\n",
      "- g1 pr segunda morte por dengue em paranaguá é confirmada pela saúde  g1 \n",
      "...\n",
      "\n",
      "\n",
      "Respostas:\n",
      "\n",
      "- 1\n",
      "- 1\n",
      "- 0\n",
      "- 0\n",
      "- 1\n",
      "...\n"
     ]
    }
   ],
   "source": [
    "# Lendo as features\n",
    "questions = pd.read_csv(\"../\" + nameOfTheFile, header=0, usecols=[0])\n",
    "listOfQuestions = []\n",
    "for row in questions.values:\n",
    "    listOfQuestions.append(list(row)[0])\n",
    "\n",
    "print(\"Quantidade de perguntas: \" + str(len(listOfQuestions)) + \"\\n\")\n",
    "print(\"Tweet:\\n\")\n",
    "for pergunta in listOfQuestions[0:5]:\n",
    "    print(\"- \" + pergunta)\n",
    "print(\"...\")\n",
    "print(\"\\n\")\n",
    "\n",
    "# Lendo as labels\n",
    "answers = pd.read_csv(\"../\" + nameOfTheFile, header=0, usecols=[1])\n",
    "listOfAnswers = []\n",
    "for answer in answers.values:\n",
    "    listOfAnswers.append(list(answer)[0])\n",
    "print(\"Respostas:\\n\")\n",
    "for label in listOfAnswers[0:5]:\n",
    "    print(\"- \" + str(label))\n",
    "print(\"...\")"
   ]
  },
  {
   "cell_type": "markdown",
   "metadata": {},
   "source": [
    "### Transformando as labels\n",
    "\n",
    "Essa transformação vai trocar as labels de número para texto, com o objetivo de facilitar a compreensão e leitura de resultados.\n",
    "0 - generico\n",
    "1 - doente"
   ]
  },
  {
   "cell_type": "code",
   "execution_count": 4,
   "metadata": {},
   "outputs": [
    {
     "name": "stdout",
     "output_type": "stream",
     "text": [
      "['doente', 'doente', 'generico', 'generico', 'doente']\n"
     ]
    }
   ],
   "source": [
    "label_palavras = []\n",
    "for item in listOfAnswers:\n",
    "    if item==0:\n",
    "        label_palavras.append(\"generico\")\n",
    "    else:\n",
    "        label_palavras.append(\"doente\")\n",
    "print(label_palavras[0:5])\n",
    "listOfAnswers = label_palavras"
   ]
  },
  {
   "cell_type": "markdown",
   "metadata": {},
   "source": [
    "### Remoção de espaçamentos extras, caracteres especiais e pontuações"
   ]
  },
  {
   "cell_type": "code",
   "execution_count": 5,
   "metadata": {},
   "outputs": [
    {
     "name": "stdout",
     "output_type": "stream",
     "text": [
      "- com o cara faixapreta que venceu a dengue ducatambasco haha foi muito bom te rever brother\n",
      "- dengue me pegou dnv\n",
      "- prefeitura de santa cruz divulga plano de ação de enfrentamento a dengue chicungunya e zika\n",
      "- seguimos na luta contra a dengue chikungunya e o zika vírus com essas três doenças não dá para\n",
      "- g1 pr segunda morte por dengue em paranaguá é confirmada pela saúde g1 \n",
      "...\n"
     ]
    }
   ],
   "source": [
    "for i in range(len(listOfQuestions)):\n",
    "    listOfQuestions [i] = listOfQuestions [i].lower()\n",
    "    listOfQuestions [i] = re.sub(r'\\W',' ',listOfQuestions [i])\n",
    "    listOfQuestions [i] = re.sub(r'\\s+',' ',listOfQuestions [i])\n",
    "\n",
    "for question in listOfQuestions[0:5]:\n",
    "    print(\"- \" + question)\n",
    "print(\"...\")"
   ]
  },
  {
   "cell_type": "markdown",
   "metadata": {},
   "source": [
    "### Tokenização dos tweets"
   ]
  },
  {
   "cell_type": "code",
   "execution_count": 6,
   "metadata": {},
   "outputs": [
    {
     "name": "stdout",
     "output_type": "stream",
     "text": [
      "- ['com', 'o', 'cara', 'faixapreta', 'que', 'venceu', 'a', 'dengue', 'ducatambasco', 'haha', 'foi', 'muito', 'bom', 'te', 'rever', 'brother']\n",
      "- ['dengue', 'me', 'pegou', 'dnv']\n",
      "- ['prefeitura', 'de', 'santa', 'cruz', 'divulga', 'plano', 'de', 'ação', 'de', 'enfrentamento', 'a', 'dengue', 'chicungunya', 'e', 'zika']\n",
      "- ['seguimos', 'na', 'luta', 'contra', 'a', 'dengue', 'chikungunya', 'e', 'o', 'zika', 'vírus', 'com', 'essas', 'três', 'doenças', 'não', 'dá', 'para']\n",
      "- ['g1', 'pr', 'segunda', 'morte', 'por', 'dengue', 'em', 'paranaguá', 'é', 'confirmada', 'pela', 'saúde', 'g1']\n",
      "...\n"
     ]
    }
   ],
   "source": [
    "def tokenize_sentences(listOfSentences):\n",
    "    listOfSentencesInTokens = []\n",
    "    for i in range(len(listOfSentences)):\n",
    "        tokens = nltk.word_tokenize(listOfSentences[i])\n",
    "        listOfSentencesInTokens.append(tokens)\n",
    "    return listOfSentencesInTokens\n",
    "\n",
    "\n",
    "listOfTokenizedQuestions = tokenize_sentences(listOfQuestions)\n",
    "for tokenizedItem in listOfTokenizedQuestions[0:5]:\n",
    "      print(\"- \" + str(tokenizedItem))\n",
    "print(\"...\")"
   ]
  },
  {
   "cell_type": "markdown",
   "metadata": {},
   "source": [
    "### Remoção das stop-words"
   ]
  },
  {
   "cell_type": "code",
   "execution_count": 7,
   "metadata": {},
   "outputs": [
    {
     "name": "stdout",
     "output_type": "stream",
     "text": [
      "Tamanho das stop-words: 204\n",
      "Tamanho: 1500\n",
      "- ['cara', 'faixapreta', 'venceu', 'dengue', 'ducatambasco', 'haha', 'bom', 'rever', 'brother']\n",
      "- ['dengue', 'pegou', 'dnv']\n",
      "- ['prefeitura', 'santa', 'cruz', 'divulga', 'plano', 'ação', 'enfrentamento', 'dengue', 'chicungunya', 'zika']\n",
      "- ['seguimos', 'luta', 'contra', 'dengue', 'chikungunya', 'zika', 'vírus', 'três', 'doenças', 'dá']\n",
      "- ['g1', 'pr', 'segunda', 'morte', 'dengue', 'paranaguá', 'confirmada', 'saúde', 'g1']\n",
      "...\n"
     ]
    }
   ],
   "source": [
    "stopwords = nltk.corpus.stopwords.words('portuguese')\n",
    "stopwords[:10]\n",
    "print(\"Tamanho das stop-words: \" + str(len(stopwords)))\n",
    "\n",
    "def remove_stop_words(listOfTokenizedSentences):\n",
    "    sentencesWithNoStopWords = []\n",
    "    for i in range(len(listOfTokenizedSentences)):\n",
    "        sentenceWithNoStopWord = []\n",
    "        for j in range(len(listOfTokenizedSentences[i])):\n",
    "            if(listOfTokenizedSentences[i][j] not in stopwords):\n",
    "                sentenceWithNoStopWord.append(listOfTokenizedSentences[i][j])\n",
    "        sentencesWithNoStopWords.append(sentenceWithNoStopWord)\n",
    "    return sentencesWithNoStopWords\n",
    "\n",
    "listOfQuestionsWithNoStopWords = remove_stop_words(listOfTokenizedQuestions)\n",
    "print(\"Tamanho: \" + str(len(listOfQuestionsWithNoStopWords)))\n",
    "\n",
    "for itemWithNoStopWord in listOfQuestionsWithNoStopWords[0:5]:\n",
    "    print(\"- \" + str(itemWithNoStopWord))\n",
    "print(\"...\")"
   ]
  },
  {
   "cell_type": "markdown",
   "metadata": {},
   "source": [
    "### Lematização das tokens"
   ]
  },
  {
   "cell_type": "code",
   "execution_count": 8,
   "metadata": {},
   "outputs": [
    {
     "name": "stdout",
     "output_type": "stream",
     "text": [
      "\n",
      "Sentenças lematizadas e filtradas: \n",
      "Tamanho: 1442\n",
      "- ['car', 'faixapret', 'venc', 'deng', 'ducatambasc', 'hah', 'bom', 'rev', 'broth']\n",
      "- ['deng', 'peg', 'dnv']\n",
      "- ['prefeitur', 'sant', 'cruz', 'divulg', 'plan', 'açã', 'enfrent', 'deng', 'chicunguny', 'zik']\n",
      "- ['segu', 'lut', 'contr', 'deng', 'chikunguny', 'zik', 'vírus', 'três', 'doenc', 'dá']\n",
      "- ['g1', 'pr', 'segund', 'mort', 'deng', 'paranagu', 'confirm', 'saúd', 'g1']\n",
      "...\n",
      "\n",
      "\n",
      "Labels lematizadas e filtradas: \n",
      "Tamanho: 1442\n",
      "doente\n",
      "doente\n",
      "generico\n",
      "generico\n",
      "doente\n",
      "...\n",
      "\n",
      "\n"
     ]
    }
   ],
   "source": [
    "stemmer = SnowballStemmer(\"portuguese\")\n",
    "print()\n",
    "\n",
    "def lematizar_tokens(listOfTokenizedSentences):\n",
    "    stemmed_sentences = []\n",
    "    for tokenizedSentence in listOfTokenizedSentences:\n",
    "        stemmed_sentence = []\n",
    "        for token in tokenizedSentence:\n",
    "            stemmed_sentence.append(stemmer.stem(token))\n",
    "        stemmed_sentences.append(stemmed_sentence)\n",
    "    return stemmed_sentences\n",
    "\n",
    "def remove_redundancies(stemmed_sentences, labels):\n",
    "    filtered_list = []\n",
    "    filtered_labels = []\n",
    "    for index in range(len(stemmed_sentences)):\n",
    "        isRedundant = False\n",
    "        for filtered_sentence in filtered_list:\n",
    "            if(filtered_sentence == stemmed_sentences[index]):\n",
    "                isRedundant = True\n",
    "        if(not isRedundant):\n",
    "            filtered_list.append(stemmed_sentences[index])\n",
    "            filtered_labels.append(labels[index])\n",
    "    return {\"features\": filtered_list, \"labels\": filtered_labels}\n",
    "\n",
    "sentencas_lematizadas = lematizar_tokens(listOfQuestionsWithNoStopWords)\n",
    "filtered_dataset = remove_redundancies(sentencas_lematizadas, listOfAnswers)\n",
    "\n",
    "sentencas_lematizadas_e_filtradas = filtered_dataset[\"features\"]\n",
    "labels_lematizadas_e_filtradas = filtered_dataset[\"labels\"]\n",
    "\n",
    "# print(\"----------------------------------------------\")\n",
    "# print(\"Sentenças lematizadas: \")\n",
    "# print(sentencas_lematizadas)\n",
    "# print(\"Tamanho: \" + str(len(sentencas_lematizadas)))\n",
    "# print(\"\\n\")\n",
    "\n",
    "print(\"Sentenças lematizadas e filtradas: \")\n",
    "print(\"Tamanho: \" + str(len(sentencas_lematizadas_e_filtradas)))\n",
    "for stemmedItem in sentencas_lematizadas_e_filtradas[0:5]:\n",
    "    print(\"- \" + str(stemmedItem))\n",
    "print(\"...\")\n",
    "print(\"\\n\")\n",
    "\n",
    "print(\"Labels lematizadas e filtradas: \")\n",
    "print(\"Tamanho: \" + str(len(labels_lematizadas_e_filtradas)))\n",
    "for stemmedLabel in labels_lematizadas_e_filtradas[0:5]:\n",
    "    print(stemmedLabel)\n",
    "print(\"...\")\n",
    "print(\"\\n\")"
   ]
  },
  {
   "cell_type": "markdown",
   "metadata": {},
   "source": [
    "### Construção da bag-of-words"
   ]
  },
  {
   "cell_type": "code",
   "execution_count": 9,
   "metadata": {},
   "outputs": [
    {
     "name": "stdout",
     "output_type": "stream",
     "text": [
      "Tamanho da bag of words: 3246\n"
     ]
    }
   ],
   "source": [
    "def create_bag_of_words(listOfTokenizedSentences):\n",
    "    wordfreq = {}\n",
    "    for i in range(len(listOfTokenizedSentences)):  #Para cada sentença tokenizada\n",
    "        for token in listOfTokenizedSentences[i]:       # Para cada token em uma sentença tokenizada\n",
    "            if token not in wordfreq.keys():\n",
    "                wordfreq[token] = 1\n",
    "            else:\n",
    "                wordfreq[token] += 1\n",
    "    return wordfreq\n",
    "\n",
    "wordfreq = create_bag_of_words(sentencas_lematizadas_e_filtradas)\n",
    "# print(wordfreq)\n",
    "bag_of_words_size = len(wordfreq.keys())\n",
    "print(\"Tamanho da bag of words: \" + str(bag_of_words_size))\n"
   ]
  },
  {
   "cell_type": "markdown",
   "metadata": {},
   "source": [
    "### Filtragem da bag of words\n",
    "\n",
    "O objetivo aqui é remover do modelo as palavras que aparecem pouco no dataset.\n",
    "A variável \"abordagem\" pode receber apenas dois valores, são eles: \"n_mais_frequentes\" ou \"frequencia_igual_a_n\""
   ]
  },
  {
   "cell_type": "code",
   "execution_count": 33,
   "metadata": {},
   "outputs": [],
   "source": [
    "N_MAIS_FREQUENTES = \"n_mais_frequentes\"\n",
    "FREQUENCIA_IGUAL_A_N = \"frequencia_igual_a_n\"\n",
    "\n",
    "# abordagem = N_MAIS_FREQUENTES\n",
    "abordagem = FREQUENCIA_IGUAL_A_N\n",
    "\n",
    "#---------------------------------------------------------------------\n",
    "order_degree = ENV_ORDER_DEGREE\n",
    "\n",
    "most_freq_dictionary = []\n",
    "if abordagem == N_MAIS_FREQUENTES:\n",
    "    most_freq_dictionary = heapq.nlargest(order_degree , wordfreq, key=wordfreq.get)    \n",
    "elif abordagem == FREQUENCIA_IGUAL_A_N:\n",
    "    for key in list(wordfreq.keys()):\n",
    "        if wordfreq[key]>1:\n",
    "            most_freq_dictionary.append(key)\n",
    "else:\n",
    "    raise RuntimeError(\"variável 'abordagem' com valor inválido.\")\n"
   ]
  },
  {
   "cell_type": "markdown",
   "metadata": {},
   "source": [
    "### Cálculo do parâmetro IDF"
   ]
  },
  {
   "cell_type": "code",
   "execution_count": 34,
   "metadata": {},
   "outputs": [
    {
     "name": "stdout",
     "output_type": "stream",
     "text": [
      "Palavras mais frequentes e seus respectivos IDFs: \n",
      "car: 4.4405729737886785\n",
      "venc: 6.175174029176785\n",
      "deng: 0.024571260730505327\n",
      "hah: 5.664348405410794\n",
      "bom: 4.4405729737886785\n",
      "...\n",
      "\n",
      "\n",
      "Quantidade de palavras consideradas no modelo: 1151\n"
     ]
    }
   ],
   "source": [
    "def get_IDF_wordDictionary(sentencas_lematizadas_e_filtradas, most_freq):\n",
    "    word_idf_values = {}\n",
    "    for token in most_freq:\n",
    "        sentences_containing_word = 0\n",
    "        for tokenized_sentence in sentencas_lematizadas_e_filtradas:\n",
    "            if token in tokenized_sentence:\n",
    "                sentences_containing_word += 1\n",
    "        word_idf_values[token] = np.log(len(sentencas_lematizadas_e_filtradas)/(1 + sentences_containing_word))\n",
    "    return word_idf_values\n",
    "\n",
    "print(\"Palavras mais frequentes e seus respectivos IDFs: \")\n",
    "idf_wordDictionary = get_IDF_wordDictionary(sentencas_lematizadas_e_filtradas, most_freq_dictionary)\n",
    "for key in list(idf_wordDictionary.keys())[0:5]:\n",
    "    print(key + \": \" + str(idf_wordDictionary[key]))\n",
    "print(\"...\")\n",
    "print(\"\\n\")\n",
    "print(\"Quantidade de palavras consideradas no modelo: \" + str(len(most_freq_dictionary)))"
   ]
  },
  {
   "cell_type": "markdown",
   "metadata": {},
   "source": [
    "### Cálculo do parâmetro TF"
   ]
  },
  {
   "cell_type": "code",
   "execution_count": 35,
   "metadata": {},
   "outputs": [],
   "source": [
    "def get_TF_wordDictionary(sentencas_lematizadas_e_filtradas,most_freq):\n",
    "    word_tf_values = {}\n",
    "    for token in most_freq:\n",
    "        sent_tf_vector = []\n",
    "        for tokenized_sentence in sentencas_lematizadas_e_filtradas:\n",
    "            doc_freq = 0\n",
    "            for word in tokenized_sentence:\n",
    "                if token == word:\n",
    "                    doc_freq += 1\n",
    "            word_tf = doc_freq/len(tokenized_sentence)\n",
    "            sent_tf_vector.append(word_tf)\n",
    "        word_tf_values[token] = sent_tf_vector\n",
    "    return word_tf_values\n",
    "\n",
    "tf_wordDictionary = get_TF_wordDictionary(sentencas_lematizadas_e_filtradas, most_freq_dictionary)\n",
    "# print(\"Dicionário com os valores TF de cada palavra do corpus em cada sentença do dataset\")\n",
    "# for key in list(tf_wordDictionary.keys())[0:5]:\n",
    "#     print(key + \": \" + str(tf_wordDictionary[key]))\n",
    "# print(\"...\")\n",
    "\n",
    "# print(\"Key / Length\")\n",
    "# for key in tf_wordDictionary:\n",
    "#     print(key + \" / \" + str(len(tf_wordDictionary)))"
   ]
  },
  {
   "cell_type": "markdown",
   "metadata": {},
   "source": [
    "### Construção do modelo TF-IDF"
   ]
  },
  {
   "cell_type": "code",
   "execution_count": 36,
   "metadata": {},
   "outputs": [
    {
     "name": "stdout",
     "output_type": "stream",
     "text": [
      "Matriz com os vetores de palavras baseados no modelo TF-IDF\n",
      "(1442, 1151)\n"
     ]
    }
   ],
   "source": [
    "def  get_TF_IDF_matrix(word_idf_values, word_tf_values):\n",
    "    tfidf_values = []\n",
    "    for token in word_tf_values.keys():\n",
    "        tfidf_sentences = []\n",
    "        for tf_sentence in word_tf_values[token]:\n",
    "            tf_idf_score = tf_sentence * word_idf_values[token]\n",
    "            tfidf_sentences.append(tf_idf_score)\n",
    "        tfidf_values.append(tfidf_sentences)\n",
    "    tf_idf_model = np.asarray(tfidf_values)\n",
    "    tf_idf_model = np.transpose(tf_idf_model)\n",
    "    return tf_idf_model\n",
    "\n",
    "tf_model = get_TF_IDF_matrix(idf_wordDictionary, tf_wordDictionary)\n",
    "# print(tf_model)\n",
    "print(\"Matriz com os vetores de palavras baseados no modelo TF-IDF\")\n",
    "print(tf_model.shape)\n",
    "# print(tf_model[0:2])"
   ]
  },
  {
   "cell_type": "markdown",
   "metadata": {},
   "source": [
    "### Divisão do dataset nos conjuntos de treino e teste"
   ]
  },
  {
   "cell_type": "code",
   "execution_count": null,
   "metadata": {},
   "outputs": [],
   "source": [
    "treino_teste_proportion = ENV_TRAIN_TEST_PROPORTION\n",
    "\n",
    "def count_classes(labels):\n",
    "    classes = []\n",
    "    for index in range(len(labels)):\n",
    "        if(labels[index] not in classes):    \n",
    "            classes.append(labels[index])\n",
    "    return len(classes)\n",
    "\n",
    "def segment_classes(features, labels):\n",
    "    dict = {}\n",
    "    for index in range(len(labels)):\n",
    "        if(labels[index] in dict):\n",
    "            dict[labels[index]].append(features[index])\n",
    "        else:\n",
    "            dict[labels[index]] = [features[index]]\n",
    "    return dict\n",
    "\n",
    "def split_dataset(features, labels, train_proportion):\n",
    "#     print(\"-----------------------------------------------\")\n",
    "#     print(\"Log: Function split_dataset:\")\n",
    "#     print(\"-----------------------------------------------\")\n",
    "\n",
    "    dict_classes = segment_classes(features, labels)\n",
    "#     print(\"dict_classes:\\n\" + \"number of keys: \" + str(len(dict_classes.keys())))\n",
    "#     for key in dict_classes:\n",
    "#         print(\"   key: \" + str(key) + \"\\n\" + \"   value: \" +  str(len(dict_classes[key])) + \" elements in array \\n\")\n",
    "\n",
    "    train_features = []\n",
    "    train_labels = []\n",
    "    test_features = []\n",
    "    test_labels = []\n",
    "\n",
    "    for key_class in dict_classes:\n",
    "\n",
    "        remove_from_class = math.ceil(len(dict_classes[key_class]) * train_proportion)\n",
    "#         print(\"remove_from_class: \" + str(key_class) + \", \" + str(remove_from_class) + \" elements go to train set\")\n",
    "\n",
    "        for index in range(len(dict_classes[key_class])):\n",
    "            if(index <= remove_from_class -1):\n",
    "                train_features.append(dict_classes[key_class][index])\n",
    "                train_labels.append(key_class)\n",
    "            else:\n",
    "                test_features.append(dict_classes[key_class][index])\n",
    "                test_labels.append(key_class)\n",
    "\n",
    "#     print(\"\\n\")\n",
    "#     print(\"train_features: \" + str(len(train_features)))  \n",
    "#     print(\"train_labels: \" + str(len(train_labels)))\n",
    "#     print(\"test_features: \" + str(len(test_features)))\n",
    "#     print(\"test_labels: \" + str(len(test_labels)))        \n",
    "#     print(\"-----------------------------------------------\")\n",
    "#     print(\"\\n\")\n",
    "    return { \"train\":{\"features\": np.array(train_features), \"labels\": np.array(train_labels)}, \"test\": {\"features\": np.array(test_features), \"labels\": np.array(test_labels)}}\n",
    "\n",
    "# sentence_vectors é uma matriz que contem as sentenças (sem stopwords, lematizadas e filtradas) vetorizadas. Dimensão atual: (81x57)\n",
    "# listOfAnswers corresponde às labels (respostas) correspondentes à cada sentença(pergunta) em sentence_vectors. tamanho atual: (105)\n",
    "# datasets = split_dataset(sentence_vectors, labels_lematizadas_e_filtradas, 0.7)\n",
    "datasets = split_dataset(tf_model, labels_lematizadas_e_filtradas, treino_teste_proportion)\n",
    "\n",
    "dataset_train = datasets[\"train\"] # É um dicionário com o formato {\"features: np.array(), \"labels\": np.array()}\n",
    "dataset_test = datasets[\"test\"] # É um dicionário com o formato {\"features: np.array(), \"labels\": np.array()}\n",
    "\n",
    "#datasets[\"test\"] = np.array(datasets[\"test\"])\n",
    "\n",
    "print(\"Conjunto de treino:\")\n",
    "print(\"Tamanho: \" + str(len(dataset_train[\"features\"])))\n",
    "# print(dataset_train[\"features\"])\n",
    "# for feat in dataset_train[\"features\"]:\n",
    "#   print(feat)\n",
    "# for label in dataset_train[\"labels\"]:\n",
    "#   print(label)\n",
    "print(\"\\n\")\n",
    "print(\"Conjunto de teste:\")\n",
    "print(\"Tamanho: \" + str(len(dataset_test[\"features\"])))\n",
    "# print(dataset_test[\"features\"])\n",
    "# print(dataset_test[\"labels\"])"
   ]
  }
 ],
 "metadata": {
  "kernelspec": {
   "display_name": "Python 3",
   "language": "python",
   "name": "python3"
  },
  "language_info": {
   "codemirror_mode": {
    "name": "ipython",
    "version": 3
   },
   "file_extension": ".py",
   "mimetype": "text/x-python",
   "name": "python",
   "nbconvert_exporter": "python",
   "pygments_lexer": "ipython3",
   "version": "3.8.3"
  }
 },
 "nbformat": 4,
 "nbformat_minor": 4
}
